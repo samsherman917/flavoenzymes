{
 "cells": [
  {
   "cell_type": "code",
   "execution_count": 1,
   "metadata": {
    "colab": {},
    "colab_type": "code",
    "id": "JgRQ8-v3VitM"
   },
   "outputs": [],
   "source": [
    "import bioservices\n",
    "import json"
   ]
  },
  {
   "cell_type": "code",
   "execution_count": 2,
   "metadata": {
    "colab": {
     "base_uri": "https://localhost:8080/",
     "height": 119
    },
    "colab_type": "code",
    "executionInfo": {
     "elapsed": 484,
     "status": "ok",
     "timestamp": 1575238962378,
     "user": {
      "displayName": "Austin Topkis",
      "photoUrl": "",
      "userId": "11500520552127769483"
     },
     "user_tz": 360
    },
    "id": "twQMgP-QVitR",
    "outputId": "4cb3a089-d9dd-4835-8e8f-02f42c18417e"
   },
   "outputs": [],
   "source": [
    "k = bioservices.kegg.KEGG()\n",
    "parser = bioservices.kegg.KEGGParser()"
   ]
  },
  {
   "cell_type": "markdown",
   "metadata": {
    "colab_type": "text",
    "id": "ZCat-sQIVitT"
   },
   "source": [
    "### Configurables\n",
    "Edit the folling options before running the scraper"
   ]
  },
  {
   "cell_type": "code",
   "execution_count": 3,
   "metadata": {
    "colab": {},
    "colab_type": "code",
    "id": "KgMXHXidVitU"
   },
   "outputs": [],
   "source": [
    "keywords = ['FAD', 'FMN', 'flavin','flavoenzyme']\n",
    "import_file = \"export/kegg.json\"\n",
    "export_file = \"export/kegg.json\""
   ]
  },
  {
   "cell_type": "markdown",
   "metadata": {
    "colab_type": "text",
    "id": "zzVd_dPfVitW"
   },
   "source": [
    "### Helper functions"
   ]
  },
  {
   "cell_type": "code",
   "execution_count": 4,
   "metadata": {
    "colab": {},
    "colab_type": "code",
    "id": "KYsekHFfVitX"
   },
   "outputs": [],
   "source": [
    "def read_past_data(path=import_file):\n",
    "    try:\n",
    "        with open('export/kegg.json') as json_file:\n",
    "            return json.load(json_file)\n",
    "    except:\n",
    "        return {}"
   ]
  },
  {
   "cell_type": "code",
   "execution_count": 5,
   "metadata": {
    "colab": {},
    "colab_type": "code",
    "id": "9Rvp_eBHVitZ"
   },
   "outputs": [],
   "source": [
    "def get_ids(keyword):\n",
    "    results = k.find(database='enzyme', query=keyword)\n",
    "    results_array = results.split('\\n')\n",
    "    ids_array = [i.split('\\t')[0] for i in results_array if (i)]\n",
    "    return ids_array"
   ]
  },
  {
   "cell_type": "code",
   "execution_count": 6,
   "metadata": {
    "colab": {},
    "colab_type": "code",
    "id": "Ifor22oYVitb"
   },
   "outputs": [],
   "source": [
    "def get_ec_data(id):\n",
    "    entry = k.get(id)\n",
    "    ec_parse = parser.parse(entry)\n",
    "    return ec_parse"
   ]
  },
  {
   "cell_type": "code",
   "execution_count": 7,
   "metadata": {
    "colab": {},
    "colab_type": "code",
    "id": "boFR8ObGVitc"
   },
   "outputs": [],
   "source": [
    "def get_all_data(ids, previous_json, verbose=False):    \n",
    "    data_dict = previous_json\n",
    "    for id in ids:\n",
    "        ec_data = get_ec_data(id)\n",
    "        data_dict[id] = ec_data\n",
    "        if verbose: print(\". \", end=\"\")    \n",
    "    return data_dict"
   ]
  },
  {
   "cell_type": "code",
   "execution_count": 8,
   "metadata": {
    "colab": {},
    "colab_type": "code",
    "id": "7baXowF7Vitf"
   },
   "outputs": [],
   "source": [
    "def scrape_kegg():\n",
    "    print(f'Kegg scraping script started...')\n",
    "    # Reading past results from KEGG\n",
    "    previous_json = read_past_data()\n",
    "    print(f'1. Successfully read previous json data, that has total of {len(previous_json)} records')\n",
    "    prev_ids = list(previous_json.keys())\n",
    "    \n",
    "    # Getting IDs of all entries that are missing from past\n",
    "    all_ids = set()\n",
    "    for keyword in keywords:\n",
    "        ids = get_ids(keyword)\n",
    "        for id in ids:\n",
    "            if (id not in prev_ids):\n",
    "                all_ids.add(id)\n",
    "                \n",
    "    # If new ids have been found, fetch the data\n",
    "    if len(all_ids) > 0:\n",
    "        print(f'2. Following potential flavins are missing from past results:')\n",
    "        [print(f'{ec}', end=\" | \") for ec in all_ids]\n",
    "    \n",
    "        # Scraping the data\n",
    "        print(f'\\n3. Fetching the data')\n",
    "        flavins = get_all_data(all_ids, previous_json, verbose=True)\n",
    "        \n",
    "        # Writing out the results to the file\n",
    "        with open(export_file, 'w') as outfile:\n",
    "            json.dump(flavins, outfile)\n",
    "        print(f'\\nSuccessfully written out {len(all_ids)} results to \"{export_file}\"')\n",
    "    else:\n",
    "        print(\"[i] Doesn't look like there are any new flavins on KEGG!\")"
   ]
  },
  {
   "cell_type": "markdown",
   "metadata": {
    "colab_type": "text",
    "id": "E8CdyA0PVith"
   },
   "source": [
    "### Running the program"
   ]
  },
  {
   "cell_type": "code",
   "execution_count": 9,
   "metadata": {
    "colab": {
     "base_uri": "https://localhost:8080/",
     "height": 879
    },
    "colab_type": "code",
    "executionInfo": {
     "elapsed": 13244,
     "status": "error",
     "timestamp": 1575238991737,
     "user": {
      "displayName": "Austin Topkis",
      "photoUrl": "",
      "userId": "11500520552127769483"
     },
     "user_tz": 360
    },
    "id": "0ZB_Z3EQViti",
    "outputId": "997ecedf-0708-40f5-faa2-0f5dc2206304"
   },
   "outputs": [
    {
     "name": "stdout",
     "output_type": "stream",
     "text": [
      "Kegg scraping script started...\n",
      "1. Successfully read previous json data, that has total of 0 records\n",
      "2. Following potential flavins are missing from past results:\n",
      "ec:1.2.99.7 | ec:6.2.1.57 | ec:1.14.14.5 | ec:1.14.19.33 | ec:1.14.19.43 | ec:1.5.1.40 | ec:2.6.1.114 | ec:1.1.5.4 | ec:1.14.14.9 | ec:3.6.1.18 | ec:1.5.1.39 | ec:1.14.14.27 | ec:1.14.19.34 | ec:6.2.1.50 | ec:3.4.22.61 | ec:1.14.13.111 | ec:1.13.11.79 | ec:1.14.19.3 | ec:1.14.13.32 | ec:1.1.5.9 | ec:1.5.1.38 | ec:1.5.1.41 | ec:1.14.19.42 | ec:4.3.3.5 | ec:1.5.1.37 | ec:4.3.1.32 | ec:3.1.3.102 | ec:1.14.19.35 | ec:1.14.14.8 | ec:1.14.14.3 | ec:2.1.1.349 | ec:2.7.10.2 | ec:4.6.1.15 | ec:2.1.1.343 | ec:1.14.14.34 | ec:2.7.1.26 | ec:1.2.99.8 | ec:1.14.13.8 | ec:1.14.19.31 | ec:2.1.1.148 | ec:1.12.98.1 | ec:1.5.1.36 | ec:1.14.13.148 | ec:1.14.19.22 | ec:2.7.1.180 | ec:6.2.1.42 | ec:1.6.2.4 | ec:2.7.1.42 | ec:1.5.1.30 | ec:2.7.1.161 | ec:1.14.13.113 | ec:1.14.19.44 | ec:6.2.1.51 | ec:1.1.2.3 | ec:1.4.3.4 | ec:2.5.1.9 | ec:1.7.1.17 | ec:2.7.7.2 | ec:6.2.1.49 | ec:1.5.1.42 | ec:1.5.1.45 | ec:2.7.8.28 | ec:2.5.1.129 | ec:1.3.8.2 | ec:1.1.5.3 | ec:6.2.1.41 | ec:1.14.19.30 | ec:1.14.14.20 | ec:2.1.1.74 | ec:1.5.1.20 | ec:1.14.99.66 | ec:1.14.19.25 | ec:1.13.12.17 | ec:3.5.99.1 | ec:1.14.19.23 | ec:6.2.1.2 | ec:6.2.1.59 | ec:1.1.99.27 | \n",
      "3. Fetching the data\n",
      ". . . . . . . . . . . . . . . . . . . . . . . . . . . . . . . . . . . . . . . . . . . . . . . . . . . . . . . . . . . . . . . . . . . . . . . . . . . . . . \n",
      "Successfully written out 78 results to \"export/kegg.json\"\n"
     ]
    }
   ],
   "source": [
    "scrape_kegg()"
   ]
  }
 ],
 "metadata": {
  "colab": {
   "name": "KEGG.ipynb",
   "provenance": []
  },
  "kernelspec": {
   "display_name": "Python 3",
   "language": "python",
   "name": "python3"
  },
  "language_info": {
   "codemirror_mode": {
    "name": "ipython",
    "version": 3
   },
   "file_extension": ".py",
   "mimetype": "text/x-python",
   "name": "python",
   "nbconvert_exporter": "python",
   "pygments_lexer": "ipython3",
   "version": "3.6.8"
  }
 },
 "nbformat": 4,
 "nbformat_minor": 4
}
