{
 "cells": [
  {
   "cell_type": "code",
   "execution_count": 21,
   "metadata": {},
   "outputs": [],
   "source": [
    "import pandas as pd\n",
    "from io import StringIO\n",
    "import requests\n",
    "import lxml\n",
    "import importlib\n",
    "import json\n",
    "\n",
    "from cache import cached_reqest\n",
    "from cache import generic_cached_reqest"
   ]
  },
  {
   "cell_type": "markdown",
   "metadata": {},
   "source": [
    "### Configurables\n",
    "Edit the folling options before running the scraper\n",
    "- Add the terms to search for on Brenda's website here:\n",
    "- Make sure the output and input files are what you want"
   ]
  },
  {
   "cell_type": "code",
   "execution_count": 87,
   "metadata": {},
   "outputs": [],
   "source": [
    "terms = ['FAD','FMN','flavoenzyme','flavin', 'flavoprotein']\n",
    "import_file = \"export/brenda.json\"\n",
    "# made the filename different so that old one can not be overriden\n",
    "export_file = \"export/brenda_new_export.json\""
   ]
  },
  {
   "cell_type": "code",
   "execution_count": 4,
   "metadata": {},
   "outputs": [],
   "source": [
    "def brenda_request(url):\n",
    "    headers = {\n",
    "      \"User-Agent\": \"Mozilla/5.0 (X11; Linux x86_64) AppleWebKit/537.36 (KHTML, like Gecko) Chrome/50.0.2661.75 Safari/537.36\",\n",
    "      \"X-Requested-With\": \"XMLHttpRequest\"\n",
    "    }\n",
    "    response = cached_reqest(url, headers=headers)\n",
    "    return response\n",
    "    "
   ]
  },
  {
   "cell_type": "code",
   "execution_count": 5,
   "metadata": {},
   "outputs": [],
   "source": [
    "def search_ligands_brenda(term):\n",
    "    columns = ['Ligand','EC Number', 'Role', 'Id', 'Structure', 'Discard']\n",
    "    url = f'https://www.brenda-enzymes.org/result_download.php?a=13&RN=&RNV=1&os=1&pt=&FNV=1&tt=&SYN=&Textmining=&T[0]=2&T[1]=2&V[1]=1&V[2]=2&W[3]={term}&T[3]=2&nolimit=1'\n",
    "    response = brenda_request(url)\n",
    "    df = pd.read_csv(StringIO(response), sep='\\t', names=columns)\n",
    "    return df"
   ]
  },
  {
   "cell_type": "code",
   "execution_count": 6,
   "metadata": {},
   "outputs": [],
   "source": [
    "def search_enzymes_brenda(term):\n",
    "    columns = ['EC Number', 'Recommended Name', 'Synonyms', 'Commentary', 'Discard']\n",
    "    url = f'https://www.brenda-enzymes.org/result_download.php?a=9&RN=&RNV=1&os=1&pt=&FNV=&tt=&SYN=&Textmining=&T[0]=2&T[1]=2&W[2]={term}&T[2]=2&nolimit=1'    \n",
    "    response = brenda_request(url)\n",
    "    df = pd.read_csv(StringIO(response), sep='\\t', names=columns)\n",
    "    return df"
   ]
  },
  {
   "cell_type": "code",
   "execution_count": 7,
   "metadata": {},
   "outputs": [],
   "source": [
    "def brenda_get_enzyme_data(id):\n",
    "    link = f'https://www.brenda-enzymes.info/enzyme.php?ecno={id}#NATURAL%20SUBSTRATE'\n",
    "    response = brenda_request(link)\n",
    "    return response"
   ]
  },
  {
   "cell_type": "code",
   "execution_count": 8,
   "metadata": {},
   "outputs": [],
   "source": [
    "def search_all_terms(terms, search_fn):\n",
    "    all_dfs = []\n",
    "\n",
    "    for term in terms:\n",
    "        df = search_fn(term)\n",
    "        if (len(df) < 2):\n",
    "            print(f'[!] skipping search for {term} since nothing was found')\n",
    "            continue\n",
    "        else:\n",
    "            all_dfs.append(df)\n",
    "        \n",
    "        print(f'len of {term} in {search_fn} is:{len(df)}')\n",
    "    return pd.concat(all_dfs)"
   ]
  },
  {
   "cell_type": "code",
   "execution_count": 9,
   "metadata": {},
   "outputs": [],
   "source": [
    "def get_all_ecs(terms):\n",
    "    \n",
    "    enzymes_list = set(search_all_terms(terms,search_enzymes_brenda)['EC Number'])\n",
    "    ligands_list = set(search_all_terms(terms,search_ligands_brenda)['EC Number'])\n",
    "\n",
    "    ec_set = enzymes_list|ligands_list\n",
    "    print(f'total ecs found: {len(ec_set)}')\n",
    "\n",
    "    return ec_set"
   ]
  },
  {
   "cell_type": "markdown",
   "metadata": {},
   "source": [
    "# SOAP helper "
   ]
  },
  {
   "cell_type": "code",
   "execution_count": 10,
   "metadata": {},
   "outputs": [],
   "source": [
    "import zeep\n",
    "\n",
    "\n",
    "from zeep import Client\n",
    "import hashlib\n",
    "\n",
    "email = 'si485@dispostable.com'\n",
    "password = 'si485@dispostable'\n",
    "\n",
    "wsdl = \"https://www.brenda-enzymes.org/soap/brenda_zeep.wsdl\"\n",
    "password = hashlib.sha256(password.encode(\"utf-8\")).hexdigest()\n",
    "client = Client(wsdl)"
   ]
  },
  {
   "cell_type": "code",
   "execution_count": 11,
   "metadata": {},
   "outputs": [],
   "source": [
    "poster_child = '1.14.13.2'"
   ]
  },
  {
   "cell_type": "code",
   "execution_count": 25,
   "metadata": {},
   "outputs": [],
   "source": [
    "def brendaSOAP(parameters, fn):\n",
    "    # resp = client.service[fn](*parameters)\n",
    "    resp = generic_cached_reqest(request_name=f'brenda_{fn}', params=parameters, request_fn=client.service[fn])\n",
    "    return resp\n",
    "\n",
    "def getSynonyms(ecNumber):\n",
    "    parameters = (email, password, f\"ecNumber*{ecNumber}\", 'organism*', 'synonyms*', 'commentary*', 'literature*')\n",
    "    return brendaSOAP(parameters, 'getSynonyms')\n",
    "\n",
    "def getReactions(ecNumber):\n",
    "    parameters = (email, password,f\"ecNumber*{ecNumber}\", \"reaction*\", \"commentary*\", \"literature*\", \"organism*\")\n",
    "    return brendaSOAP(parameters, 'getReaction')\n",
    "\n",
    "def getSystematicName(ecNumber):\n",
    "    parameters = (email, password,f\"ecNumber*{ecNumber}\", \"organism*\", \"systematicName*\")\n",
    "    return brendaSOAP(parameters, 'getSystematicName')\n",
    "\n",
    "def getSubstrate(ecNumber):\n",
    "    parameters = (email, password,f\"ecNumber*{ecNumber}\", \"organism*\", \"substrate*\", \"reactionPartners*\", \"ligandStructureId*\")\n",
    "    return brendaSOAP(parameters,'getSubstrate')\n",
    "\n",
    "def getProduct(ecNumber):\n",
    "    parameters = (email, password,f\"ecNumber*{ecNumber}\", \"organism*\", \"product*\", \"reactionPartners*\", \"ligandStructureId*\")\n",
    "    return brendaSOAP(parameters,'getProduct')\n",
    "\n",
    "def getPdb(ecNumber):\n",
    "    parameters = (email, password,f\"ecNumber*{ecNumber}\", \"organism*\", \"pdb*\")\n",
    "    return brendaSOAP(parameters,'getPdb')"
   ]
  },
  {
   "cell_type": "code",
   "execution_count": null,
   "metadata": {},
   "outputs": [],
   "source": [
    "all_ecs = get_all_ecs(terms)"
   ]
  },
  {
   "cell_type": "markdown",
   "metadata": {},
   "source": [
    "### Initializing BrendaDB"
   ]
  },
  {
   "cell_type": "code",
   "execution_count": 42,
   "metadata": {},
   "outputs": [],
   "source": [
    "def read_past_data(path=import_file):\n",
    "    try:\n",
    "        with open(path) as json_file:\n",
    "            return json.load(json_file)\n",
    "    except:\n",
    "        return {}"
   ]
  },
  {
   "cell_type": "code",
   "execution_count": 43,
   "metadata": {},
   "outputs": [],
   "source": [
    "db = read_past_data(import_file)\n",
    "\n",
    "# Example of the BrendaDB:\n",
    "# brenda_enzymes = {\n",
    "#             ecNumber: {\n",
    "#                 'SYSNAME': \"...\", # should this be an array?\n",
    "#                 'REACTIONS': [{reaction},],\n",
    "#                 'NAME': ['...',],\n",
    "#                 'SUBSTRATE': [{substrate},],\n",
    "#                 'PRODUCT': [{product},],\n",
    "#                 'PDB': [{pdb}]\n",
    "#             },\n",
    "#         }"
   ]
  },
  {
   "cell_type": "code",
   "execution_count": 46,
   "metadata": {},
   "outputs": [],
   "source": [
    "def create_brenda_ec_entry(ec):\n",
    "    return {\n",
    "        'SYSNAME': getSystematicName(ec),\n",
    "        'REACTIONS': getReactions(ec),\n",
    "        'NAME': getSynonyms(ec),\n",
    "        'SUBSTRATE': getSubstrate(ec),\n",
    "        'PRODUCT': getProduct(ec),\n",
    "        'PDB': getPdb(ec)\n",
    "    }\n",
    "     "
   ]
  },
  {
   "cell_type": "code",
   "execution_count": 52,
   "metadata": {},
   "outputs": [],
   "source": [
    "def create_brenda_db(list_of_ecs,db):\n",
    "    for index, ec in enumerate(list_of_ecs):\n",
    "        if ec not in db:\n",
    "            try:\n",
    "                entry = create_brenda_ec_entry(ec)\n",
    "                sysnames = entry['SYSNAME']\n",
    "                entry_name = sorted(sysnames)[0]['ecNumber']\n",
    "                db[entry_name] = (entry)\n",
    "                percent_done = round((index+1)/len(list_of_ecs)*100)\n",
    "                # this is just to show progress done:\n",
    "                done = (percent_done/10)\n",
    "                done_str = '█'*int(done)\n",
    "                togo = (10-(percent_done/10))\n",
    "                togo_str = '░'*int(togo)\n",
    "                print(f'\\n\\n----> Progress: {done_str}{togo_str} \\t{percent_done}% done')\n",
    "            except:\n",
    "                print(f\"couldn't fetch info for {ec}\")\n",
    "    \n",
    "    # Writing out the results to the file\n",
    "    with open(export_file, 'w') as outfile:\n",
    "        json.dump(db, outfile)\n",
    "    print(f'\\nSuccessfully written out {len(db)} results to \"{export_file}\"')\n",
    "\n",
    "    return db"
   ]
  },
  {
   "cell_type": "code",
   "execution_count": null,
   "metadata": {},
   "outputs": [],
   "source": [
    "sorted_ecs = sorted(list(all_ecs))\n",
    "db = create_brenda_db(db)"
   ]
  },
  {
   "cell_type": "code",
   "execution_count": 88,
   "metadata": {},
   "outputs": [
    {
     "data": {
      "text/plain": [
       "[]"
      ]
     },
     "execution_count": 88,
     "metadata": {},
     "output_type": "execute_result"
    }
   ],
   "source": [
    "# check if there are ever more then two sysnames\n",
    "[short_db[ez_name]['SYSNAME'][0]['ecNumber'] for ez_name in short_db.keys() if len(short_db[ez_name]['SYSNAME']) > 1]"
   ]
  },
  {
   "cell_type": "code",
   "execution_count": 60,
   "metadata": {},
   "outputs": [],
   "source": [
    "# dataframe to easily work with\n",
    "df = pd.DataFrame(db).T"
   ]
  }
 ],
 "metadata": {
  "kernelspec": {
   "display_name": "Python 3",
   "language": "python",
   "name": "python3"
  },
  "language_info": {
   "codemirror_mode": {
    "name": "ipython",
    "version": 3
   },
   "file_extension": ".py",
   "mimetype": "text/x-python",
   "name": "python",
   "nbconvert_exporter": "python",
   "pygments_lexer": "ipython3",
   "version": "3.6.4"
  }
 },
 "nbformat": 4,
 "nbformat_minor": 4
}
