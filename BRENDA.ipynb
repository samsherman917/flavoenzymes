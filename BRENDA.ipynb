{
 "cells": [
  {
   "cell_type": "code",
   "execution_count": 695,
   "metadata": {},
   "outputs": [],
   "source": [
    "import pandas as pd\n",
    "from io import StringIO\n",
    "import requests\n",
    "import lxml\n",
    "import importlib\n",
    "\n",
    "from cache import cached_reqest\n",
    "from cache import generic_cached_reqest"
   ]
  },
  {
   "cell_type": "markdown",
   "metadata": {},
   "source": [
    "Add the terms to search for on Brenda's website here:"
   ]
  },
  {
   "cell_type": "code",
   "execution_count": 696,
   "metadata": {},
   "outputs": [],
   "source": [
    "terms = ['FAD','FMN','flavoenzyme','flavin', 'flavoprotein']"
   ]
  },
  {
   "cell_type": "code",
   "execution_count": 697,
   "metadata": {},
   "outputs": [],
   "source": [
    "def brenda_request(url):\n",
    "    headers = {\n",
    "      \"User-Agent\": \"Mozilla/5.0 (X11; Linux x86_64) AppleWebKit/537.36 (KHTML, like Gecko) Chrome/50.0.2661.75 Safari/537.36\",\n",
    "      \"X-Requested-With\": \"XMLHttpRequest\"\n",
    "    }\n",
    "    response = cached_reqest(url, headers=headers)\n",
    "    return response\n",
    "    "
   ]
  },
  {
   "cell_type": "code",
   "execution_count": 698,
   "metadata": {},
   "outputs": [],
   "source": [
    "def search_ligands_brenda(term):\n",
    "    columns = ['Ligand','EC Number', 'Role', 'Id', 'Structure', 'Discard']\n",
    "    url = f'https://www.brenda-enzymes.org/result_download.php?a=13&RN=&RNV=1&os=1&pt=&FNV=1&tt=&SYN=&Textmining=&T[0]=2&T[1]=2&V[1]=1&V[2]=2&W[3]={term}&T[3]=2&nolimit=1'\n",
    "    response = brenda_request(url)\n",
    "    df = pd.read_csv(StringIO(response), sep='\\t', names=columns)\n",
    "    return df"
   ]
  },
  {
   "cell_type": "code",
   "execution_count": 714,
   "metadata": {},
   "outputs": [],
   "source": [
    "def search_enzymes_brenda(term):\n",
    "    columns = ['EC Number', 'Recommended Name', 'Synonyms', 'Commentary', 'Discard']\n",
    "    url = f'https://www.brenda-enzymes.org/result_download.php?a=9&RN=&RNV=1&os=1&pt=&FNV=&tt=&SYN=&Textmining=&T[0]=2&T[1]=2&W[2]={term}&T[2]=2&nolimit=1'    \n",
    "    response = brenda_request(url)\n",
    "    df = pd.read_csv(StringIO(response), sep='\\t', names=columns)\n",
    "    return df"
   ]
  },
  {
   "cell_type": "code",
   "execution_count": 715,
   "metadata": {},
   "outputs": [],
   "source": [
    "def brenda_get_enzyme_data(id):\n",
    "    link = f'https://www.brenda-enzymes.info/enzyme.php?ecno={id}#NATURAL%20SUBSTRATE'\n",
    "    response = brenda_request(link)\n",
    "    return response"
   ]
  },
  {
   "cell_type": "code",
   "execution_count": 716,
   "metadata": {},
   "outputs": [],
   "source": [
    "def search_all_terms(terms, search_fn):\n",
    "    all_dfs = []\n",
    "\n",
    "    for term in terms:\n",
    "        df = search_fn(term)\n",
    "        if (len(df) < 2):\n",
    "            print(f'[!] skipping search for {term} since nothing was found')\n",
    "            continue\n",
    "        else:\n",
    "            all_dfs.append(df)\n",
    "        \n",
    "        print(f'len of {term} in {search_fn} is:{len(df)}')\n",
    "    return pd.concat(all_dfs)"
   ]
  },
  {
   "cell_type": "code",
   "execution_count": 735,
   "metadata": {},
   "outputs": [],
   "source": [
    "def get_all_ecs(terms):\n",
    "    \n",
    "    enzymes_list = set(search_all_terms(terms,search_enzymes_brenda)['EC Number'])\n",
    "    ligands_list = set(search_all_terms(terms,search_ligands_brenda)['EC Number'])\n",
    "\n",
    "    ec_set = enzymes_list|ligands_list\n",
    "    print(f'total ecs found: {len(ec_set)}')\n",
    "\n",
    "    return ec_set"
   ]
  },
  {
   "cell_type": "markdown",
   "metadata": {},
   "source": [
    "# SOAP helper "
   ]
  },
  {
   "cell_type": "code",
   "execution_count": 691,
   "metadata": {},
   "outputs": [],
   "source": [
    "from zeep import Client\n",
    "import hashlib\n",
    "\n",
    "email = 'si485@dispostable.com'\n",
    "password = 'si485@dispostable'\n",
    "\n",
    "wsdl = \"https://www.brenda-enzymes.org/soap/brenda_zeep.wsdl\"\n",
    "password = hashlib.sha256(password.encode(\"utf-8\")).hexdigest()\n",
    "client = Client(wsdl)"
   ]
  },
  {
   "cell_type": "code",
   "execution_count": 683,
   "metadata": {},
   "outputs": [],
   "source": [
    "poster_child = '1.14.13.2'"
   ]
  },
  {
   "cell_type": "code",
   "execution_count": 682,
   "metadata": {},
   "outputs": [],
   "source": [
    "def brendaSOAP(parameters, fn):\n",
    "    # resp = client.service[fn](*parameters)\n",
    "    resp = cache.generic_cached_reqest(request_name=f'brenda_{fn}', params=parameters, request_fn=client.service[fn])\n",
    "    return resp\n",
    "\n",
    "def getSynonyms(ecNumber):\n",
    "    parameters = (email, password, f\"ecNumber*{ecNumber}\", 'organism*', 'synonyms*', 'commentary*', 'literature*')\n",
    "    return brendaSOAP(parameters, 'getSynonyms')\n",
    "\n",
    "def getReactions(ecNumber):\n",
    "    parameters = (email, password,f\"ecNumber*{ecNumber}\", \"reaction*\", \"commentary*\", \"literature*\", \"organism*\")\n",
    "    return brendaSOAP(parameters, 'getReaction')\n",
    "\n",
    "def getSystematicName(ecNumber):\n",
    "    parameters = (email, password,f\"ecNumber*{ecNumber}\", \"organism*\", \"systematicName*\")\n",
    "    return brendaSOAP(parameters, 'getSystematicName')\n",
    "\n",
    "def getSubstrate(ecNumber):\n",
    "    parameters = (email, password,f\"ecNumber*{ecNumber}\", \"organism*\", \"substrate*\", \"reactionPartners*\", \"ligandStructureId*\")\n",
    "    return brendaSOAP(parameters,'getSubstrate')\n",
    "\n",
    "def getProduct(ecNumber):\n",
    "    parameters = (email, password,f\"ecNumber*{ecNumber}\", \"organism*\", \"product*\", \"reactionPartners*\", \"ligandStructureId*\")\n",
    "    return brendaSOAP(parameters,'getProduct')\n",
    "\n",
    "def getPdb(ecNumber):\n",
    "    parameters = (email, password,f\"ecNumber*{ecNumber}\", \"organism*\", \"pdb*\")\n",
    "    return brendaSOAP(parameters,'getPdb')"
   ]
  },
  {
   "cell_type": "code",
   "execution_count": 738,
   "metadata": {},
   "outputs": [
    {
     "name": "stdout",
     "output_type": "stream",
     "text": [
      "Getting cached data...\n",
      "https://www.brenda-enzymes.org/result_download.php?a=9&RN=&RNV=1&os=1&pt=&FNV=&tt=&SYN=&Textmining=&T[0]=2&T[1]=2&W[2]=FAD&T[2]=2&nolimit=1\n",
      "len of FAD in <function search_enzymes_brenda at 0x1253c36a8> is:104\n",
      "Getting cached data...\n",
      "https://www.brenda-enzymes.org/result_download.php?a=9&RN=&RNV=1&os=1&pt=&FNV=&tt=&SYN=&Textmining=&T[0]=2&T[1]=2&W[2]=FMN&T[2]=2&nolimit=1\n",
      "len of FMN in <function search_enzymes_brenda at 0x1253c36a8> is:41\n",
      "Getting cached data...\n",
      "https://www.brenda-enzymes.org/result_download.php?a=9&RN=&RNV=1&os=1&pt=&FNV=&tt=&SYN=&Textmining=&T[0]=2&T[1]=2&W[2]=flavoenzyme&T[2]=2&nolimit=1\n",
      "[!] skipping search for flavoenzyme since nothing was found\n",
      "Getting cached data...\n",
      "https://www.brenda-enzymes.org/result_download.php?a=9&RN=&RNV=1&os=1&pt=&FNV=&tt=&SYN=&Textmining=&T[0]=2&T[1]=2&W[2]=flavin&T[2]=2&nolimit=1\n",
      "len of flavin in <function search_enzymes_brenda at 0x1253c36a8> is:69\n",
      "Getting cached data...\n",
      "https://www.brenda-enzymes.org/result_download.php?a=9&RN=&RNV=1&os=1&pt=&FNV=&tt=&SYN=&Textmining=&T[0]=2&T[1]=2&W[2]=flavoprotein&T[2]=2&nolimit=1\n",
      "len of flavoprotein in <function search_enzymes_brenda at 0x1253c36a8> is:29\n",
      "Getting cached data...\n",
      "https://www.brenda-enzymes.org/result_download.php?a=13&RN=&RNV=1&os=1&pt=&FNV=1&tt=&SYN=&Textmining=&T[0]=2&T[1]=2&V[1]=1&V[2]=2&W[3]=FAD&T[3]=2&nolimit=1\n",
      "len of FAD in <function search_ligands_brenda at 0x1161ff8c8> is:720\n",
      "Getting cached data...\n",
      "https://www.brenda-enzymes.org/result_download.php?a=13&RN=&RNV=1&os=1&pt=&FNV=1&tt=&SYN=&Textmining=&T[0]=2&T[1]=2&V[1]=1&V[2]=2&W[3]=FMN&T[3]=2&nolimit=1\n",
      "len of FMN in <function search_ligands_brenda at 0x1161ff8c8> is:351\n",
      "Getting cached data...\n",
      "https://www.brenda-enzymes.org/result_download.php?a=13&RN=&RNV=1&os=1&pt=&FNV=1&tt=&SYN=&Textmining=&T[0]=2&T[1]=2&V[1]=1&V[2]=2&W[3]=flavoenzyme&T[3]=2&nolimit=1\n",
      "[!] skipping search for flavoenzyme since nothing was found\n",
      "Getting cached data...\n",
      "https://www.brenda-enzymes.org/result_download.php?a=13&RN=&RNV=1&os=1&pt=&FNV=1&tt=&SYN=&Textmining=&T[0]=2&T[1]=2&V[1]=1&V[2]=2&W[3]=flavin&T[3]=2&nolimit=1\n",
      "len of flavin in <function search_ligands_brenda at 0x1161ff8c8> is:452\n",
      "Getting cached data...\n",
      "https://www.brenda-enzymes.org/result_download.php?a=13&RN=&RNV=1&os=1&pt=&FNV=1&tt=&SYN=&Textmining=&T[0]=2&T[1]=2&V[1]=1&V[2]=2&W[3]=flavoprotein&T[3]=2&nolimit=1\n",
      "len of flavoprotein in <function search_ligands_brenda at 0x1161ff8c8> is:92\n",
      "total ecs found: 808\n"
     ]
    }
   ],
   "source": [
    "all_ecs = get_all_ecs(terms)"
   ]
  },
  {
   "cell_type": "code",
   "execution_count": 740,
   "metadata": {
    "collapsed": true,
    "jupyter": {
     "outputs_hidden": true
    }
   },
   "outputs": [
    {
     "name": "stdout",
     "output_type": "stream",
     "text": [
      "Making a request for new data...\n",
      "brenda_getReaction, params: [\"si485@dispostable.com\", \"68a8b3ecc5cecaa6b4bf94e0c89ff02d5d77366ca90f1774aae28e37f3b202a7\", \"ecNumber*1.14.13.2\", \"reaction*\", \"commentary*\", \"literature*\", \"organism*\"]\n"
     ]
    },
    {
     "data": {
      "text/plain": [
       "[{\n",
       "     'reaction': '4-hydroxybenzoate + NADPH + H+ + O2 = 3,4-dihydroxybenzoate + NADP+ + H2O',\n",
       "     'commentary': 'bi uni uni uni ping-pong mechanism',\n",
       "     'literature': [\n",
       "         390023\n",
       "     ],\n",
       "     'organism': 'Pseudomonas fluorescens',\n",
       "     'ecNumber': '1.14.13.2'\n",
       " },\n",
       " {\n",
       "     'reaction': '4-hydroxybenzoate + NADPH + H+ + O2 = 3,4-dihydroxybenzoate + NADP+ + H2O',\n",
       "     'commentary': 'rate of formation of the flavin hydroperoxide is not influenced by pH-change. Rate of hydroxylation reaction increases with pH. The H-bond network abstracts the phenolic proton from p-hydroxybenzoate in the transition state of oxygen transfer. Product deprotonation enhances the rate of a specific conformational change required for both product relase and the elimination of water',\n",
       "     'literature': [\n",
       "         658045\n",
       "     ],\n",
       "     'organism': 'Pseudomonas aeruginosa',\n",
       "     'ecNumber': '1.14.13.2'\n",
       " },\n",
       " {\n",
       "     'reaction': '4-hydroxybenzoate + NADPH + H+ + O2 = 3,4-dihydroxybenzoate + NADP+ + H2O',\n",
       "     'commentary': 'kinetic scheme of reductive half-reaction, flavin movement can occur in the presence or absence of NADPH, but NADPH stimulates movement to the reactive conformation required for hydride transfer',\n",
       "     'literature': [\n",
       "         661173\n",
       "     ],\n",
       "     'organism': 'Pseudomonas aeruginosa',\n",
       "     'ecNumber': '1.14.13.2'\n",
       " },\n",
       " {\n",
       "     'reaction': '4-hydroxybenzoate + NADPH + H+ + O2 = 3,4-dihydroxybenzoate + NADP+ + H2O',\n",
       "     'commentary': None,\n",
       "     'literature': [\n",
       "         0\n",
       "     ],\n",
       "     'organism': None,\n",
       "     'ecNumber': '1.14.13.2'\n",
       " }]"
      ]
     },
     "execution_count": 740,
     "metadata": {},
     "output_type": "execute_result"
    }
   ],
   "source": [
    "getReactions( poster_child)\n",
    "\n",
    "getSynonyms( poster_child)\n",
    "\n",
    "getReactions( poster_child)\n",
    "\n",
    "getSystematicName( poster_child)\n",
    "\n",
    "getSubstrate( poster_child)\n",
    "\n",
    "getProduct( poster_child)\n",
    "\n",
    "getPdb( poster_child)"
   ]
  },
  {
   "cell_type": "code",
   "execution_count": null,
   "metadata": {},
   "outputs": [],
   "source": [
    "brenda_enzymes = [\n",
    "    {\n",
    "        'SYSNAME': \"...\", # should this be an array?\n",
    "        'REACTIONS': [{reaction},],\n",
    "        'NAME': ['...',],\n",
    "        'SUBSTRATE': [{substrate},],\n",
    "        'PRODUCT': [{product},],\n",
    "        'PDB': [{pdb}]\n",
    "    },\n",
    "]"
   ]
  },
  {
   "cell_type": "code",
   "execution_count": 747,
   "metadata": {},
   "outputs": [
    {
     "data": {
      "text/plain": [
       "'1.1.1.1'"
      ]
     },
     "execution_count": 747,
     "metadata": {},
     "output_type": "execute_result"
    }
   ],
   "source": [
    "sorted(list(all_ecs))[0]"
   ]
  },
  {
   "cell_type": "code",
   "execution_count": 772,
   "metadata": {},
   "outputs": [],
   "source": [
    "def create_brenda_ec_entry(ec):\n",
    "    return {\n",
    "        'SYSNAME': getSystematicName(ec),\n",
    "        'REACTIONS': getReactions(ec),\n",
    "        'NAME': getSynonyms(ec),\n",
    "        'SUBSTRATE': getSubstrate(ec),\n",
    "        'PRODUCT': getProduct(ec),\n",
    "        'PDB': getPdb(ec)\n",
    "    }\n",
    "     "
   ]
  },
  {
   "cell_type": "code",
   "execution_count": 782,
   "metadata": {},
   "outputs": [],
   "source": [
    "def create_brenda_db(list_of_ecs):\n",
    "    db = {}\n",
    "    for index, ec in enumerate(list_of_ecs):\n",
    "        try:\n",
    "            entry = create_brenda_ec_entry(ec)\n",
    "            sysnames = entry['SYSNAME']\n",
    "            entry_name = sorted(sysnames)[0]['systematicName']\n",
    "            db[entry_name] = entry\n",
    "        except:\n",
    "            print(f\"couldn't fetch info for {ec}\")\n",
    "            \n",
    "        print(f'----> Progress: {round(index/len(db)*100)}% done')\n",
    "    return db"
   ]
  },
  {
   "cell_type": "code",
   "execution_count": 783,
   "metadata": {},
   "outputs": [],
   "source": [
    "short_list = sorted(list(all_ecs))[:10]"
   ]
  },
  {
   "cell_type": "code",
   "execution_count": 784,
   "metadata": {},
   "outputs": [
    {
     "name": "stdout",
     "output_type": "stream",
     "text": [
      "Getting cached data...\n",
      "brenda_getSystematicName?68a8b3ecc5cecaa6b4bf94e0c89ff02d5d77366ca90f1774aae28e37f3b202a7=68a8b3ecc5cecaa6b4bf94e0c89ff02d5d77366ca90f1774aae28e37f3b202a7&ecNumber*1.1.1.1=ecNumber*1.1.1.1&organism*=organism*&si485@dispostable.com=si485@dispostable.com&systematicName*=systematicName*\n",
      "Getting cached data...\n",
      "brenda_getReaction?68a8b3ecc5cecaa6b4bf94e0c89ff02d5d77366ca90f1774aae28e37f3b202a7=68a8b3ecc5cecaa6b4bf94e0c89ff02d5d77366ca90f1774aae28e37f3b202a7&commentary*=commentary*&ecNumber*1.1.1.1=ecNumber*1.1.1.1&literature*=literature*&organism*=organism*&reaction*=reaction*&si485@dispostable.com=si485@dispostable.com\n",
      "Getting cached data...\n",
      "brenda_getSynonyms?68a8b3ecc5cecaa6b4bf94e0c89ff02d5d77366ca90f1774aae28e37f3b202a7=68a8b3ecc5cecaa6b4bf94e0c89ff02d5d77366ca90f1774aae28e37f3b202a7&commentary*=commentary*&ecNumber*1.1.1.1=ecNumber*1.1.1.1&literature*=literature*&organism*=organism*&si485@dispostable.com=si485@dispostable.com&synonyms*=synonyms*\n",
      "Getting cached data...\n",
      "brenda_getSubstrate?68a8b3ecc5cecaa6b4bf94e0c89ff02d5d77366ca90f1774aae28e37f3b202a7=68a8b3ecc5cecaa6b4bf94e0c89ff02d5d77366ca90f1774aae28e37f3b202a7&ecNumber*1.1.1.1=ecNumber*1.1.1.1&ligandStructureId*=ligandStructureId*&organism*=organism*&reactionPartners*=reactionPartners*&si485@dispostable.com=si485@dispostable.com&substrate*=substrate*\n",
      "Getting cached data...\n",
      "brenda_getProduct?68a8b3ecc5cecaa6b4bf94e0c89ff02d5d77366ca90f1774aae28e37f3b202a7=68a8b3ecc5cecaa6b4bf94e0c89ff02d5d77366ca90f1774aae28e37f3b202a7&ecNumber*1.1.1.1=ecNumber*1.1.1.1&ligandStructureId*=ligandStructureId*&organism*=organism*&product*=product*&reactionPartners*=reactionPartners*&si485@dispostable.com=si485@dispostable.com\n",
      "Getting cached data...\n",
      "brenda_getPdb?68a8b3ecc5cecaa6b4bf94e0c89ff02d5d77366ca90f1774aae28e37f3b202a7=68a8b3ecc5cecaa6b4bf94e0c89ff02d5d77366ca90f1774aae28e37f3b202a7&ecNumber*1.1.1.1=ecNumber*1.1.1.1&organism*=organism*&pdb*=pdb*&si485@dispostable.com=si485@dispostable.com\n",
      "----> Progress: 0% done\n",
      "Getting cached data...\n",
      "brenda_getSystematicName?68a8b3ecc5cecaa6b4bf94e0c89ff02d5d77366ca90f1774aae28e37f3b202a7=68a8b3ecc5cecaa6b4bf94e0c89ff02d5d77366ca90f1774aae28e37f3b202a7&ecNumber*1.1.1.125=ecNumber*1.1.1.125&organism*=organism*&si485@dispostable.com=si485@dispostable.com&systematicName*=systematicName*\n",
      "Getting cached data...\n",
      "brenda_getReaction?68a8b3ecc5cecaa6b4bf94e0c89ff02d5d77366ca90f1774aae28e37f3b202a7=68a8b3ecc5cecaa6b4bf94e0c89ff02d5d77366ca90f1774aae28e37f3b202a7&commentary*=commentary*&ecNumber*1.1.1.125=ecNumber*1.1.1.125&literature*=literature*&organism*=organism*&reaction*=reaction*&si485@dispostable.com=si485@dispostable.com\n",
      "Getting cached data...\n",
      "brenda_getSynonyms?68a8b3ecc5cecaa6b4bf94e0c89ff02d5d77366ca90f1774aae28e37f3b202a7=68a8b3ecc5cecaa6b4bf94e0c89ff02d5d77366ca90f1774aae28e37f3b202a7&commentary*=commentary*&ecNumber*1.1.1.125=ecNumber*1.1.1.125&literature*=literature*&organism*=organism*&si485@dispostable.com=si485@dispostable.com&synonyms*=synonyms*\n",
      "Getting cached data...\n",
      "brenda_getSubstrate?68a8b3ecc5cecaa6b4bf94e0c89ff02d5d77366ca90f1774aae28e37f3b202a7=68a8b3ecc5cecaa6b4bf94e0c89ff02d5d77366ca90f1774aae28e37f3b202a7&ecNumber*1.1.1.125=ecNumber*1.1.1.125&ligandStructureId*=ligandStructureId*&organism*=organism*&reactionPartners*=reactionPartners*&si485@dispostable.com=si485@dispostable.com&substrate*=substrate*\n",
      "Getting cached data...\n",
      "brenda_getProduct?68a8b3ecc5cecaa6b4bf94e0c89ff02d5d77366ca90f1774aae28e37f3b202a7=68a8b3ecc5cecaa6b4bf94e0c89ff02d5d77366ca90f1774aae28e37f3b202a7&ecNumber*1.1.1.125=ecNumber*1.1.1.125&ligandStructureId*=ligandStructureId*&organism*=organism*&product*=product*&reactionPartners*=reactionPartners*&si485@dispostable.com=si485@dispostable.com\n",
      "Getting cached data...\n",
      "brenda_getPdb?68a8b3ecc5cecaa6b4bf94e0c89ff02d5d77366ca90f1774aae28e37f3b202a7=68a8b3ecc5cecaa6b4bf94e0c89ff02d5d77366ca90f1774aae28e37f3b202a7&ecNumber*1.1.1.125=ecNumber*1.1.1.125&organism*=organism*&pdb*=pdb*&si485@dispostable.com=si485@dispostable.com\n",
      "----> Progress: 50% done\n",
      "Getting cached data...\n",
      "brenda_getSystematicName?68a8b3ecc5cecaa6b4bf94e0c89ff02d5d77366ca90f1774aae28e37f3b202a7=68a8b3ecc5cecaa6b4bf94e0c89ff02d5d77366ca90f1774aae28e37f3b202a7&ecNumber*1.1.1.181=ecNumber*1.1.1.181&organism*=organism*&si485@dispostable.com=si485@dispostable.com&systematicName*=systematicName*\n",
      "Getting cached data...\n",
      "brenda_getReaction?68a8b3ecc5cecaa6b4bf94e0c89ff02d5d77366ca90f1774aae28e37f3b202a7=68a8b3ecc5cecaa6b4bf94e0c89ff02d5d77366ca90f1774aae28e37f3b202a7&commentary*=commentary*&ecNumber*1.1.1.181=ecNumber*1.1.1.181&literature*=literature*&organism*=organism*&reaction*=reaction*&si485@dispostable.com=si485@dispostable.com\n",
      "Getting cached data...\n",
      "brenda_getSynonyms?68a8b3ecc5cecaa6b4bf94e0c89ff02d5d77366ca90f1774aae28e37f3b202a7=68a8b3ecc5cecaa6b4bf94e0c89ff02d5d77366ca90f1774aae28e37f3b202a7&commentary*=commentary*&ecNumber*1.1.1.181=ecNumber*1.1.1.181&literature*=literature*&organism*=organism*&si485@dispostable.com=si485@dispostable.com&synonyms*=synonyms*\n",
      "Getting cached data...\n",
      "brenda_getSubstrate?68a8b3ecc5cecaa6b4bf94e0c89ff02d5d77366ca90f1774aae28e37f3b202a7=68a8b3ecc5cecaa6b4bf94e0c89ff02d5d77366ca90f1774aae28e37f3b202a7&ecNumber*1.1.1.181=ecNumber*1.1.1.181&ligandStructureId*=ligandStructureId*&organism*=organism*&reactionPartners*=reactionPartners*&si485@dispostable.com=si485@dispostable.com&substrate*=substrate*\n",
      "Getting cached data...\n",
      "brenda_getProduct?68a8b3ecc5cecaa6b4bf94e0c89ff02d5d77366ca90f1774aae28e37f3b202a7=68a8b3ecc5cecaa6b4bf94e0c89ff02d5d77366ca90f1774aae28e37f3b202a7&ecNumber*1.1.1.181=ecNumber*1.1.1.181&ligandStructureId*=ligandStructureId*&organism*=organism*&product*=product*&reactionPartners*=reactionPartners*&si485@dispostable.com=si485@dispostable.com\n",
      "Getting cached data...\n",
      "brenda_getPdb?68a8b3ecc5cecaa6b4bf94e0c89ff02d5d77366ca90f1774aae28e37f3b202a7=68a8b3ecc5cecaa6b4bf94e0c89ff02d5d77366ca90f1774aae28e37f3b202a7&ecNumber*1.1.1.181=ecNumber*1.1.1.181&organism*=organism*&pdb*=pdb*&si485@dispostable.com=si485@dispostable.com\n",
      "----> Progress: 67% done\n",
      "Getting cached data...\n",
      "brenda_getSystematicName?68a8b3ecc5cecaa6b4bf94e0c89ff02d5d77366ca90f1774aae28e37f3b202a7=68a8b3ecc5cecaa6b4bf94e0c89ff02d5d77366ca90f1774aae28e37f3b202a7&ecNumber*1.1.1.184=ecNumber*1.1.1.184&organism*=organism*&si485@dispostable.com=si485@dispostable.com&systematicName*=systematicName*\n",
      "Getting cached data...\n",
      "brenda_getReaction?68a8b3ecc5cecaa6b4bf94e0c89ff02d5d77366ca90f1774aae28e37f3b202a7=68a8b3ecc5cecaa6b4bf94e0c89ff02d5d77366ca90f1774aae28e37f3b202a7&commentary*=commentary*&ecNumber*1.1.1.184=ecNumber*1.1.1.184&literature*=literature*&organism*=organism*&reaction*=reaction*&si485@dispostable.com=si485@dispostable.com\n",
      "Getting cached data...\n",
      "brenda_getSynonyms?68a8b3ecc5cecaa6b4bf94e0c89ff02d5d77366ca90f1774aae28e37f3b202a7=68a8b3ecc5cecaa6b4bf94e0c89ff02d5d77366ca90f1774aae28e37f3b202a7&commentary*=commentary*&ecNumber*1.1.1.184=ecNumber*1.1.1.184&literature*=literature*&organism*=organism*&si485@dispostable.com=si485@dispostable.com&synonyms*=synonyms*\n",
      "Getting cached data...\n",
      "brenda_getSubstrate?68a8b3ecc5cecaa6b4bf94e0c89ff02d5d77366ca90f1774aae28e37f3b202a7=68a8b3ecc5cecaa6b4bf94e0c89ff02d5d77366ca90f1774aae28e37f3b202a7&ecNumber*1.1.1.184=ecNumber*1.1.1.184&ligandStructureId*=ligandStructureId*&organism*=organism*&reactionPartners*=reactionPartners*&si485@dispostable.com=si485@dispostable.com&substrate*=substrate*\n",
      "Getting cached data...\n",
      "brenda_getProduct?68a8b3ecc5cecaa6b4bf94e0c89ff02d5d77366ca90f1774aae28e37f3b202a7=68a8b3ecc5cecaa6b4bf94e0c89ff02d5d77366ca90f1774aae28e37f3b202a7&ecNumber*1.1.1.184=ecNumber*1.1.1.184&ligandStructureId*=ligandStructureId*&organism*=organism*&product*=product*&reactionPartners*=reactionPartners*&si485@dispostable.com=si485@dispostable.com\n",
      "Getting cached data...\n",
      "brenda_getPdb?68a8b3ecc5cecaa6b4bf94e0c89ff02d5d77366ca90f1774aae28e37f3b202a7=68a8b3ecc5cecaa6b4bf94e0c89ff02d5d77366ca90f1774aae28e37f3b202a7&ecNumber*1.1.1.184=ecNumber*1.1.1.184&organism*=organism*&pdb*=pdb*&si485@dispostable.com=si485@dispostable.com\n",
      "----> Progress: 75% done\n",
      "Getting cached data...\n",
      "brenda_getSystematicName?68a8b3ecc5cecaa6b4bf94e0c89ff02d5d77366ca90f1774aae28e37f3b202a7=68a8b3ecc5cecaa6b4bf94e0c89ff02d5d77366ca90f1774aae28e37f3b202a7&ecNumber*1.1.1.189=ecNumber*1.1.1.189&organism*=organism*&si485@dispostable.com=si485@dispostable.com&systematicName*=systematicName*\n",
      "Getting cached data...\n",
      "brenda_getReaction?68a8b3ecc5cecaa6b4bf94e0c89ff02d5d77366ca90f1774aae28e37f3b202a7=68a8b3ecc5cecaa6b4bf94e0c89ff02d5d77366ca90f1774aae28e37f3b202a7&commentary*=commentary*&ecNumber*1.1.1.189=ecNumber*1.1.1.189&literature*=literature*&organism*=organism*&reaction*=reaction*&si485@dispostable.com=si485@dispostable.com\n",
      "Getting cached data...\n",
      "brenda_getSynonyms?68a8b3ecc5cecaa6b4bf94e0c89ff02d5d77366ca90f1774aae28e37f3b202a7=68a8b3ecc5cecaa6b4bf94e0c89ff02d5d77366ca90f1774aae28e37f3b202a7&commentary*=commentary*&ecNumber*1.1.1.189=ecNumber*1.1.1.189&literature*=literature*&organism*=organism*&si485@dispostable.com=si485@dispostable.com&synonyms*=synonyms*\n",
      "Getting cached data...\n",
      "brenda_getSubstrate?68a8b3ecc5cecaa6b4bf94e0c89ff02d5d77366ca90f1774aae28e37f3b202a7=68a8b3ecc5cecaa6b4bf94e0c89ff02d5d77366ca90f1774aae28e37f3b202a7&ecNumber*1.1.1.189=ecNumber*1.1.1.189&ligandStructureId*=ligandStructureId*&organism*=organism*&reactionPartners*=reactionPartners*&si485@dispostable.com=si485@dispostable.com&substrate*=substrate*\n",
      "Getting cached data...\n",
      "brenda_getProduct?68a8b3ecc5cecaa6b4bf94e0c89ff02d5d77366ca90f1774aae28e37f3b202a7=68a8b3ecc5cecaa6b4bf94e0c89ff02d5d77366ca90f1774aae28e37f3b202a7&ecNumber*1.1.1.189=ecNumber*1.1.1.189&ligandStructureId*=ligandStructureId*&organism*=organism*&product*=product*&reactionPartners*=reactionPartners*&si485@dispostable.com=si485@dispostable.com\n",
      "Getting cached data...\n",
      "brenda_getPdb?68a8b3ecc5cecaa6b4bf94e0c89ff02d5d77366ca90f1774aae28e37f3b202a7=68a8b3ecc5cecaa6b4bf94e0c89ff02d5d77366ca90f1774aae28e37f3b202a7&ecNumber*1.1.1.189=ecNumber*1.1.1.189&organism*=organism*&pdb*=pdb*&si485@dispostable.com=si485@dispostable.com\n",
      "----> Progress: 80% done\n",
      "Getting cached data...\n",
      "brenda_getSystematicName?68a8b3ecc5cecaa6b4bf94e0c89ff02d5d77366ca90f1774aae28e37f3b202a7=68a8b3ecc5cecaa6b4bf94e0c89ff02d5d77366ca90f1774aae28e37f3b202a7&ecNumber*1.1.1.193=ecNumber*1.1.1.193&organism*=organism*&si485@dispostable.com=si485@dispostable.com&systematicName*=systematicName*\n",
      "Getting cached data...\n",
      "brenda_getReaction?68a8b3ecc5cecaa6b4bf94e0c89ff02d5d77366ca90f1774aae28e37f3b202a7=68a8b3ecc5cecaa6b4bf94e0c89ff02d5d77366ca90f1774aae28e37f3b202a7&commentary*=commentary*&ecNumber*1.1.1.193=ecNumber*1.1.1.193&literature*=literature*&organism*=organism*&reaction*=reaction*&si485@dispostable.com=si485@dispostable.com\n",
      "Getting cached data...\n",
      "brenda_getSynonyms?68a8b3ecc5cecaa6b4bf94e0c89ff02d5d77366ca90f1774aae28e37f3b202a7=68a8b3ecc5cecaa6b4bf94e0c89ff02d5d77366ca90f1774aae28e37f3b202a7&commentary*=commentary*&ecNumber*1.1.1.193=ecNumber*1.1.1.193&literature*=literature*&organism*=organism*&si485@dispostable.com=si485@dispostable.com&synonyms*=synonyms*\n",
      "Getting cached data...\n",
      "brenda_getSubstrate?68a8b3ecc5cecaa6b4bf94e0c89ff02d5d77366ca90f1774aae28e37f3b202a7=68a8b3ecc5cecaa6b4bf94e0c89ff02d5d77366ca90f1774aae28e37f3b202a7&ecNumber*1.1.1.193=ecNumber*1.1.1.193&ligandStructureId*=ligandStructureId*&organism*=organism*&reactionPartners*=reactionPartners*&si485@dispostable.com=si485@dispostable.com&substrate*=substrate*\n",
      "Getting cached data...\n",
      "brenda_getProduct?68a8b3ecc5cecaa6b4bf94e0c89ff02d5d77366ca90f1774aae28e37f3b202a7=68a8b3ecc5cecaa6b4bf94e0c89ff02d5d77366ca90f1774aae28e37f3b202a7&ecNumber*1.1.1.193=ecNumber*1.1.1.193&ligandStructureId*=ligandStructureId*&organism*=organism*&product*=product*&reactionPartners*=reactionPartners*&si485@dispostable.com=si485@dispostable.com\n",
      "Getting cached data...\n",
      "brenda_getPdb?68a8b3ecc5cecaa6b4bf94e0c89ff02d5d77366ca90f1774aae28e37f3b202a7=68a8b3ecc5cecaa6b4bf94e0c89ff02d5d77366ca90f1774aae28e37f3b202a7&ecNumber*1.1.1.193=ecNumber*1.1.1.193&organism*=organism*&pdb*=pdb*&si485@dispostable.com=si485@dispostable.com\n",
      "----> Progress: 83% done\n",
      "Getting cached data...\n",
      "brenda_getSystematicName?68a8b3ecc5cecaa6b4bf94e0c89ff02d5d77366ca90f1774aae28e37f3b202a7=68a8b3ecc5cecaa6b4bf94e0c89ff02d5d77366ca90f1774aae28e37f3b202a7&ecNumber*1.1.1.205=ecNumber*1.1.1.205&organism*=organism*&si485@dispostable.com=si485@dispostable.com&systematicName*=systematicName*\n",
      "Making a request for new data...\n",
      "brenda_getReaction, params: [\"si485@dispostable.com\", \"68a8b3ecc5cecaa6b4bf94e0c89ff02d5d77366ca90f1774aae28e37f3b202a7\", \"ecNumber*1.1.1.205\", \"reaction*\", \"commentary*\", \"literature*\", \"organism*\"]\n",
      "couldn't fetch info for 1.1.1.205\n",
      "----> Progress: 100% done\n",
      "Getting cached data...\n",
      "brenda_getSystematicName?68a8b3ecc5cecaa6b4bf94e0c89ff02d5d77366ca90f1774aae28e37f3b202a7=68a8b3ecc5cecaa6b4bf94e0c89ff02d5d77366ca90f1774aae28e37f3b202a7&ecNumber*1.1.1.215=ecNumber*1.1.1.215&organism*=organism*&si485@dispostable.com=si485@dispostable.com&systematicName*=systematicName*\n",
      "Getting cached data...\n",
      "brenda_getReaction?68a8b3ecc5cecaa6b4bf94e0c89ff02d5d77366ca90f1774aae28e37f3b202a7=68a8b3ecc5cecaa6b4bf94e0c89ff02d5d77366ca90f1774aae28e37f3b202a7&commentary*=commentary*&ecNumber*1.1.1.215=ecNumber*1.1.1.215&literature*=literature*&organism*=organism*&reaction*=reaction*&si485@dispostable.com=si485@dispostable.com\n",
      "Getting cached data...\n",
      "brenda_getSynonyms?68a8b3ecc5cecaa6b4bf94e0c89ff02d5d77366ca90f1774aae28e37f3b202a7=68a8b3ecc5cecaa6b4bf94e0c89ff02d5d77366ca90f1774aae28e37f3b202a7&commentary*=commentary*&ecNumber*1.1.1.215=ecNumber*1.1.1.215&literature*=literature*&organism*=organism*&si485@dispostable.com=si485@dispostable.com&synonyms*=synonyms*\n",
      "Getting cached data...\n",
      "brenda_getSubstrate?68a8b3ecc5cecaa6b4bf94e0c89ff02d5d77366ca90f1774aae28e37f3b202a7=68a8b3ecc5cecaa6b4bf94e0c89ff02d5d77366ca90f1774aae28e37f3b202a7&ecNumber*1.1.1.215=ecNumber*1.1.1.215&ligandStructureId*=ligandStructureId*&organism*=organism*&reactionPartners*=reactionPartners*&si485@dispostable.com=si485@dispostable.com&substrate*=substrate*\n",
      "Getting cached data...\n",
      "brenda_getProduct?68a8b3ecc5cecaa6b4bf94e0c89ff02d5d77366ca90f1774aae28e37f3b202a7=68a8b3ecc5cecaa6b4bf94e0c89ff02d5d77366ca90f1774aae28e37f3b202a7&ecNumber*1.1.1.215=ecNumber*1.1.1.215&ligandStructureId*=ligandStructureId*&organism*=organism*&product*=product*&reactionPartners*=reactionPartners*&si485@dispostable.com=si485@dispostable.com\n",
      "Getting cached data...\n",
      "brenda_getPdb?68a8b3ecc5cecaa6b4bf94e0c89ff02d5d77366ca90f1774aae28e37f3b202a7=68a8b3ecc5cecaa6b4bf94e0c89ff02d5d77366ca90f1774aae28e37f3b202a7&ecNumber*1.1.1.215=ecNumber*1.1.1.215&organism*=organism*&pdb*=pdb*&si485@dispostable.com=si485@dispostable.com\n",
      "----> Progress: 100% done\n",
      "Getting cached data...\n",
      "brenda_getSystematicName?68a8b3ecc5cecaa6b4bf94e0c89ff02d5d77366ca90f1774aae28e37f3b202a7=68a8b3ecc5cecaa6b4bf94e0c89ff02d5d77366ca90f1774aae28e37f3b202a7&ecNumber*1.1.1.216=ecNumber*1.1.1.216&organism*=organism*&si485@dispostable.com=si485@dispostable.com&systematicName*=systematicName*\n",
      "Getting cached data...\n",
      "brenda_getReaction?68a8b3ecc5cecaa6b4bf94e0c89ff02d5d77366ca90f1774aae28e37f3b202a7=68a8b3ecc5cecaa6b4bf94e0c89ff02d5d77366ca90f1774aae28e37f3b202a7&commentary*=commentary*&ecNumber*1.1.1.216=ecNumber*1.1.1.216&literature*=literature*&organism*=organism*&reaction*=reaction*&si485@dispostable.com=si485@dispostable.com\n",
      "Getting cached data...\n",
      "brenda_getSynonyms?68a8b3ecc5cecaa6b4bf94e0c89ff02d5d77366ca90f1774aae28e37f3b202a7=68a8b3ecc5cecaa6b4bf94e0c89ff02d5d77366ca90f1774aae28e37f3b202a7&commentary*=commentary*&ecNumber*1.1.1.216=ecNumber*1.1.1.216&literature*=literature*&organism*=organism*&si485@dispostable.com=si485@dispostable.com&synonyms*=synonyms*\n",
      "Getting cached data...\n",
      "brenda_getSubstrate?68a8b3ecc5cecaa6b4bf94e0c89ff02d5d77366ca90f1774aae28e37f3b202a7=68a8b3ecc5cecaa6b4bf94e0c89ff02d5d77366ca90f1774aae28e37f3b202a7&ecNumber*1.1.1.216=ecNumber*1.1.1.216&ligandStructureId*=ligandStructureId*&organism*=organism*&reactionPartners*=reactionPartners*&si485@dispostable.com=si485@dispostable.com&substrate*=substrate*\n",
      "Getting cached data...\n",
      "brenda_getProduct?68a8b3ecc5cecaa6b4bf94e0c89ff02d5d77366ca90f1774aae28e37f3b202a7=68a8b3ecc5cecaa6b4bf94e0c89ff02d5d77366ca90f1774aae28e37f3b202a7&ecNumber*1.1.1.216=ecNumber*1.1.1.216&ligandStructureId*=ligandStructureId*&organism*=organism*&product*=product*&reactionPartners*=reactionPartners*&si485@dispostable.com=si485@dispostable.com\n",
      "Getting cached data...\n",
      "brenda_getPdb?68a8b3ecc5cecaa6b4bf94e0c89ff02d5d77366ca90f1774aae28e37f3b202a7=68a8b3ecc5cecaa6b4bf94e0c89ff02d5d77366ca90f1774aae28e37f3b202a7&ecNumber*1.1.1.216=ecNumber*1.1.1.216&organism*=organism*&pdb*=pdb*&si485@dispostable.com=si485@dispostable.com\n",
      "----> Progress: 100% done\n",
      "Getting cached data...\n",
      "brenda_getSystematicName?68a8b3ecc5cecaa6b4bf94e0c89ff02d5d77366ca90f1774aae28e37f3b202a7=68a8b3ecc5cecaa6b4bf94e0c89ff02d5d77366ca90f1774aae28e37f3b202a7&ecNumber*1.1.1.217=ecNumber*1.1.1.217&organism*=organism*&si485@dispostable.com=si485@dispostable.com&systematicName*=systematicName*\n",
      "Getting cached data...\n",
      "brenda_getReaction?68a8b3ecc5cecaa6b4bf94e0c89ff02d5d77366ca90f1774aae28e37f3b202a7=68a8b3ecc5cecaa6b4bf94e0c89ff02d5d77366ca90f1774aae28e37f3b202a7&commentary*=commentary*&ecNumber*1.1.1.217=ecNumber*1.1.1.217&literature*=literature*&organism*=organism*&reaction*=reaction*&si485@dispostable.com=si485@dispostable.com\n",
      "Getting cached data...\n",
      "brenda_getSynonyms?68a8b3ecc5cecaa6b4bf94e0c89ff02d5d77366ca90f1774aae28e37f3b202a7=68a8b3ecc5cecaa6b4bf94e0c89ff02d5d77366ca90f1774aae28e37f3b202a7&commentary*=commentary*&ecNumber*1.1.1.217=ecNumber*1.1.1.217&literature*=literature*&organism*=organism*&si485@dispostable.com=si485@dispostable.com&synonyms*=synonyms*\n",
      "Getting cached data...\n",
      "brenda_getSubstrate?68a8b3ecc5cecaa6b4bf94e0c89ff02d5d77366ca90f1774aae28e37f3b202a7=68a8b3ecc5cecaa6b4bf94e0c89ff02d5d77366ca90f1774aae28e37f3b202a7&ecNumber*1.1.1.217=ecNumber*1.1.1.217&ligandStructureId*=ligandStructureId*&organism*=organism*&reactionPartners*=reactionPartners*&si485@dispostable.com=si485@dispostable.com&substrate*=substrate*\n",
      "Getting cached data...\n",
      "brenda_getProduct?68a8b3ecc5cecaa6b4bf94e0c89ff02d5d77366ca90f1774aae28e37f3b202a7=68a8b3ecc5cecaa6b4bf94e0c89ff02d5d77366ca90f1774aae28e37f3b202a7&ecNumber*1.1.1.217=ecNumber*1.1.1.217&ligandStructureId*=ligandStructureId*&organism*=organism*&product*=product*&reactionPartners*=reactionPartners*&si485@dispostable.com=si485@dispostable.com\n",
      "Getting cached data...\n",
      "brenda_getPdb?68a8b3ecc5cecaa6b4bf94e0c89ff02d5d77366ca90f1774aae28e37f3b202a7=68a8b3ecc5cecaa6b4bf94e0c89ff02d5d77366ca90f1774aae28e37f3b202a7&ecNumber*1.1.1.217=ecNumber*1.1.1.217&organism*=organism*&pdb*=pdb*&si485@dispostable.com=si485@dispostable.com\n",
      "----> Progress: 100% done\n"
     ]
    }
   ],
   "source": [
    "short_db = create_brenda_db(short_list)"
   ]
  },
  {
   "cell_type": "code",
   "execution_count": 792,
   "metadata": {},
   "outputs": [
    {
     "data": {
      "text/plain": [
       "[]"
      ]
     },
     "execution_count": 792,
     "metadata": {},
     "output_type": "execute_result"
    }
   ],
   "source": [
    "# check if there are ever more then two sysnames\n",
    "[short_db[ez_name]['SYSNAME'][0]['ecNumber'] for ez_name in short_db.keys() if len(short_db[ez_name]['SYSNAME']) > 1]"
   ]
  }
 ],
 "metadata": {
  "kernelspec": {
   "display_name": "Python 3",
   "language": "python",
   "name": "python3"
  },
  "language_info": {
   "codemirror_mode": {
    "name": "ipython",
    "version": 3
   },
   "file_extension": ".py",
   "mimetype": "text/x-python",
   "name": "python",
   "nbconvert_exporter": "python",
   "pygments_lexer": "ipython3",
   "version": "3.6.4"
  }
 },
 "nbformat": 4,
 "nbformat_minor": 4
}
